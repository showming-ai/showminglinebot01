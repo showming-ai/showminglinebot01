{
 "cells": [
  {
   "cell_type": "code",
   "execution_count": 2,
   "metadata": {},
   "outputs": [],
   "source": [
    "import configparser"
   ]
  },
  {
   "cell_type": "code",
   "execution_count": 3,
   "metadata": {},
   "outputs": [
    {
     "data": {
      "text/plain": [
       "['config.ini']"
      ]
     },
     "execution_count": 3,
     "metadata": {},
     "output_type": "execute_result"
    }
   ],
   "source": [
    "config = configparser.ConfigParser()\n",
    "config.read('config.ini')\n"
   ]
  },
  {
   "cell_type": "code",
   "execution_count": 4,
   "metadata": {},
   "outputs": [
    {
     "name": "stdout",
     "output_type": "stream",
     "text": [
      "<Section: section_a>\t: key_a\t: value_a\n",
      "<Section: section_a>\t: key_b\t: value_b\n"
     ]
    }
   ],
   "source": [
    "for i in config.sections():\n",
    "            for j in config[i]:\n",
    "                print(f'{config[i]}\\t: {j}\\t: {config.get(i, j)}')"
   ]
  }
 ],
 "metadata": {
  "interpreter": {
   "hash": "618828a621302bd0a140619c85eefbb5d0c86a49c57af964d7e80420084caa42"
  },
  "kernelspec": {
   "display_name": "Python 3.9.7 64-bit ('test02': conda)",
   "name": "python3"
  },
  "language_info": {
   "codemirror_mode": {
    "name": "ipython",
    "version": 3
   },
   "file_extension": ".py",
   "mimetype": "text/x-python",
   "name": "python",
   "nbconvert_exporter": "python",
   "pygments_lexer": "ipython3",
   "version": "3.9.7"
  },
  "orig_nbformat": 4
 },
 "nbformat": 4,
 "nbformat_minor": 2
}
